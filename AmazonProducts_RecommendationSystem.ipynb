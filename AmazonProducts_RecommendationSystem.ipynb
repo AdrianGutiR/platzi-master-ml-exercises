{
  "nbformat": 4,
  "nbformat_minor": 0,
  "metadata": {
    "colab": {
      "name": "AmazonProducts_RecommendationSystem.ipynb",
      "provenance": [],
      "mount_file_id": "154_Fd6w6tkxq1rYzaa7Zq8E9rGKnE5J8",
      "authorship_tag": "ABX9TyOKfHO/UeFdTRQsnYxAXyK3",
      "include_colab_link": true
    },
    "kernelspec": {
      "name": "python3",
      "display_name": "Python 3"
    }
  },
  "cells": [
    {
      "cell_type": "markdown",
      "metadata": {
        "id": "view-in-github",
        "colab_type": "text"
      },
      "source": [
        "<a href=\"https://colab.research.google.com/github/XavierCarrera/platzi-master-ml-exercises/blob/main/AmazonProducts_RecommendationSystem.ipynb\" target=\"_parent\"><img src=\"https://colab.research.google.com/assets/colab-badge.svg\" alt=\"Open In Colab\"/></a>"
      ]
    },
    {
      "cell_type": "markdown",
      "metadata": {
        "id": "JDqxyp1YCPDD"
      },
      "source": [
        "# Introduction and Problem Definition"
      ]
    },
    {
      "cell_type": "code",
      "metadata": {
        "id": "i6YvV-cK698T"
      },
      "source": [
        "import numpy as np\n",
        "import pandas as pd\n",
        "import matplotlib.pyplot as plt\n",
        "import nltk\n",
        "\n",
        "from sklearn.neighbors import NearestNeighbors\n",
        "from sklearn.linear_model import LogisticRegression\n",
        "from sklearn import neighbors\n",
        "from scipy.spatial.distance import cosine\n",
        "from sklearn.metrics import classification_report\n",
        "from sklearn.metrics import accuracy_score\n",
        "from sklearn.feature_selection import SelectKBest\n",
        "from sklearn.feature_extraction.text import CountVectorizer, TfidfTransformer\n",
        "\n",
        "import re\n",
        "import string\n",
        "from wordcloud import WordCloud, STOPWORDS\n",
        "from sklearn.metrics import mean_squared_error\n",
        "\n",
        "%matplotlib inline\n",
        "plt.rcParams['figure.figsize'] = (16, 9)\n",
        "plt.style.use('ggplot')"
      ],
      "execution_count": null,
      "outputs": []
    },
    {
      "cell_type": "code",
      "metadata": {
        "id": "I2Y5qT-nBQgH"
      },
      "source": [
        "df = pd.read_json('/content/drive/MyDrive/Colab Notebooks/db/reviews_Musical_Instruments.json', lines=True)\n",
        "df.to_csv('reviews.csv', sep=',', index=False)"
      ],
      "execution_count": null,
      "outputs": []
    },
    {
      "cell_type": "code",
      "metadata": {
        "colab": {
          "base_uri": "https://localhost:8080/",
          "height": 589
        },
        "id": "C8NYnXBqCKON",
        "outputId": "62079d1d-099b-4c62-b8bb-25a6d07384c0"
      },
      "source": [
        "df"
      ],
      "execution_count": null,
      "outputs": [
        {
          "output_type": "execute_result",
          "data": {
            "text/html": [
              "<div>\n",
              "<style scoped>\n",
              "    .dataframe tbody tr th:only-of-type {\n",
              "        vertical-align: middle;\n",
              "    }\n",
              "\n",
              "    .dataframe tbody tr th {\n",
              "        vertical-align: top;\n",
              "    }\n",
              "\n",
              "    .dataframe thead th {\n",
              "        text-align: right;\n",
              "    }\n",
              "</style>\n",
              "<table border=\"1\" class=\"dataframe\">\n",
              "  <thead>\n",
              "    <tr style=\"text-align: right;\">\n",
              "      <th></th>\n",
              "      <th>reviewerID</th>\n",
              "      <th>asin</th>\n",
              "      <th>reviewerName</th>\n",
              "      <th>helpful</th>\n",
              "      <th>reviewText</th>\n",
              "      <th>overall</th>\n",
              "      <th>summary</th>\n",
              "      <th>unixReviewTime</th>\n",
              "      <th>reviewTime</th>\n",
              "    </tr>\n",
              "  </thead>\n",
              "  <tbody>\n",
              "    <tr>\n",
              "      <th>0</th>\n",
              "      <td>A1YS9MDZP93857</td>\n",
              "      <td>0006428320</td>\n",
              "      <td>John Taylor</td>\n",
              "      <td>[0, 0]</td>\n",
              "      <td>The portfolio is fine except for the fact that...</td>\n",
              "      <td>3</td>\n",
              "      <td>Parts missing</td>\n",
              "      <td>1394496000</td>\n",
              "      <td>03 11, 2014</td>\n",
              "    </tr>\n",
              "    <tr>\n",
              "      <th>1</th>\n",
              "      <td>A3TS466QBAWB9D</td>\n",
              "      <td>0014072149</td>\n",
              "      <td>Silver Pencil</td>\n",
              "      <td>[0, 0]</td>\n",
              "      <td>If you are a serious violin student on a budge...</td>\n",
              "      <td>5</td>\n",
              "      <td>Perform it with a friend, today!</td>\n",
              "      <td>1370476800</td>\n",
              "      <td>06 6, 2013</td>\n",
              "    </tr>\n",
              "    <tr>\n",
              "      <th>2</th>\n",
              "      <td>A3BUDYITWUSIS7</td>\n",
              "      <td>0041291905</td>\n",
              "      <td>joyce gabriel cornett</td>\n",
              "      <td>[0, 0]</td>\n",
              "      <td>This is and excellent edition and perfectly tr...</td>\n",
              "      <td>5</td>\n",
              "      <td>Vivalldi's Four Seasons</td>\n",
              "      <td>1381708800</td>\n",
              "      <td>10 14, 2013</td>\n",
              "    </tr>\n",
              "    <tr>\n",
              "      <th>3</th>\n",
              "      <td>A19K10Z0D2NTZK</td>\n",
              "      <td>0041913574</td>\n",
              "      <td>TexasCowboy</td>\n",
              "      <td>[0, 0]</td>\n",
              "      <td>Perfect for someone who is an opera fan or a w...</td>\n",
              "      <td>5</td>\n",
              "      <td>Full score: voice and orchestra</td>\n",
              "      <td>1285200000</td>\n",
              "      <td>09 23, 2010</td>\n",
              "    </tr>\n",
              "    <tr>\n",
              "      <th>4</th>\n",
              "      <td>A14X336IB4JD89</td>\n",
              "      <td>0201891859</td>\n",
              "      <td>dfjm53</td>\n",
              "      <td>[0, 1]</td>\n",
              "      <td>How many Nocturnes does it contain? All of the...</td>\n",
              "      <td>1</td>\n",
              "      <td>Unable to determine contents</td>\n",
              "      <td>1350432000</td>\n",
              "      <td>10 17, 2012</td>\n",
              "    </tr>\n",
              "    <tr>\n",
              "      <th>...</th>\n",
              "      <td>...</td>\n",
              "      <td>...</td>\n",
              "      <td>...</td>\n",
              "      <td>...</td>\n",
              "      <td>...</td>\n",
              "      <td>...</td>\n",
              "      <td>...</td>\n",
              "      <td>...</td>\n",
              "      <td>...</td>\n",
              "    </tr>\n",
              "    <tr>\n",
              "      <th>500171</th>\n",
              "      <td>A2XEVARMJP81E</td>\n",
              "      <td>B00LIR7QNS</td>\n",
              "      <td>Zoe</td>\n",
              "      <td>[0, 0]</td>\n",
              "      <td>I'm very pleased with this recorder. Firstly, ...</td>\n",
              "      <td>5</td>\n",
              "      <td>Excellent sound, very cheap, altos are rather ...</td>\n",
              "      <td>1405641600</td>\n",
              "      <td>07 18, 2014</td>\n",
              "    </tr>\n",
              "    <tr>\n",
              "      <th>500172</th>\n",
              "      <td>A3PAQGM6P87MXO</td>\n",
              "      <td>B00LJD5AUM</td>\n",
              "      <td>William Kilpatrick</td>\n",
              "      <td>[0, 0]</td>\n",
              "      <td>i've been playing my m-4 for more years than i...</td>\n",
              "      <td>5</td>\n",
              "      <td>... years than i care to remember - it's a won...</td>\n",
              "      <td>1404518400</td>\n",
              "      <td>07 5, 2014</td>\n",
              "    </tr>\n",
              "    <tr>\n",
              "      <th>500173</th>\n",
              "      <td>A2KZX7A4XZ4T2W</td>\n",
              "      <td>B00LK7A9SK</td>\n",
              "      <td>Steve</td>\n",
              "      <td>[1, 1]</td>\n",
              "      <td>This is an exceptionally nice sounding guitar....</td>\n",
              "      <td>5</td>\n",
              "      <td>great sound</td>\n",
              "      <td>1404518400</td>\n",
              "      <td>07 5, 2014</td>\n",
              "    </tr>\n",
              "    <tr>\n",
              "      <th>500174</th>\n",
              "      <td>AIDHT6KXOL64T</td>\n",
              "      <td>SMLRBIMX03</td>\n",
              "      <td>Leo Cameron</td>\n",
              "      <td>[0, 0]</td>\n",
              "      <td>It was a perfect retrofit for my guitar. I lov...</td>\n",
              "      <td>5</td>\n",
              "      <td>A great choice for my guitar</td>\n",
              "      <td>1355788800</td>\n",
              "      <td>12 18, 2012</td>\n",
              "    </tr>\n",
              "    <tr>\n",
              "      <th>500175</th>\n",
              "      <td>A161I1MHX2G2BR</td>\n",
              "      <td>SMLRBIMX03</td>\n",
              "      <td>Michael Favila \"temporarybasement\"</td>\n",
              "      <td>[0, 0]</td>\n",
              "      <td>great seller, so that was seamless.  The picku...</td>\n",
              "      <td>4</td>\n",
              "      <td>great, but difficult to install</td>\n",
              "      <td>1364860800</td>\n",
              "      <td>04 2, 2013</td>\n",
              "    </tr>\n",
              "  </tbody>\n",
              "</table>\n",
              "<p>500176 rows × 9 columns</p>\n",
              "</div>"
            ],
            "text/plain": [
              "            reviewerID        asin  ... unixReviewTime   reviewTime\n",
              "0       A1YS9MDZP93857  0006428320  ...     1394496000  03 11, 2014\n",
              "1       A3TS466QBAWB9D  0014072149  ...     1370476800   06 6, 2013\n",
              "2       A3BUDYITWUSIS7  0041291905  ...     1381708800  10 14, 2013\n",
              "3       A19K10Z0D2NTZK  0041913574  ...     1285200000  09 23, 2010\n",
              "4       A14X336IB4JD89  0201891859  ...     1350432000  10 17, 2012\n",
              "...                ...         ...  ...            ...          ...\n",
              "500171   A2XEVARMJP81E  B00LIR7QNS  ...     1405641600  07 18, 2014\n",
              "500172  A3PAQGM6P87MXO  B00LJD5AUM  ...     1404518400   07 5, 2014\n",
              "500173  A2KZX7A4XZ4T2W  B00LK7A9SK  ...     1404518400   07 5, 2014\n",
              "500174   AIDHT6KXOL64T  SMLRBIMX03  ...     1355788800  12 18, 2012\n",
              "500175  A161I1MHX2G2BR  SMLRBIMX03  ...     1364860800   04 2, 2013\n",
              "\n",
              "[500176 rows x 9 columns]"
            ]
          },
          "metadata": {
            "tags": []
          },
          "execution_count": 5
        }
      ]
    },
    {
      "cell_type": "code",
      "metadata": {
        "colab": {
          "base_uri": "https://localhost:8080/"
        },
        "id": "hgTd-jcvDADo",
        "outputId": "5472e09f-3769-4061-924c-3081fa66115e"
      },
      "source": [
        "df.columns"
      ],
      "execution_count": null,
      "outputs": [
        {
          "output_type": "execute_result",
          "data": {
            "text/plain": [
              "Index(['reviewerID', 'asin', 'reviewerName', 'helpful', 'reviewText',\n",
              "       'overall', 'summary', 'unixReviewTime', 'reviewTime'],\n",
              "      dtype='object')"
            ]
          },
          "metadata": {
            "tags": []
          },
          "execution_count": 6
        }
      ]
    },
    {
      "cell_type": "code",
      "metadata": {
        "colab": {
          "base_uri": "https://localhost:8080/",
          "height": 487
        },
        "id": "kj8l8C6ceq9j",
        "outputId": "2ea79238-5820-4392-8fac-d13349d96145"
      },
      "source": [
        "df.drop([\"unixReviewTime\", \"reviewTime\", \"helpful\"], axis=1, inplace=True)\n",
        "df"
      ],
      "execution_count": null,
      "outputs": [
        {
          "output_type": "execute_result",
          "data": {
            "text/html": [
              "<div>\n",
              "<style scoped>\n",
              "    .dataframe tbody tr th:only-of-type {\n",
              "        vertical-align: middle;\n",
              "    }\n",
              "\n",
              "    .dataframe tbody tr th {\n",
              "        vertical-align: top;\n",
              "    }\n",
              "\n",
              "    .dataframe thead th {\n",
              "        text-align: right;\n",
              "    }\n",
              "</style>\n",
              "<table border=\"1\" class=\"dataframe\">\n",
              "  <thead>\n",
              "    <tr style=\"text-align: right;\">\n",
              "      <th></th>\n",
              "      <th>reviewerID</th>\n",
              "      <th>asin</th>\n",
              "      <th>reviewerName</th>\n",
              "      <th>reviewText</th>\n",
              "      <th>overall</th>\n",
              "      <th>summary</th>\n",
              "    </tr>\n",
              "  </thead>\n",
              "  <tbody>\n",
              "    <tr>\n",
              "      <th>0</th>\n",
              "      <td>A1YS9MDZP93857</td>\n",
              "      <td>0006428320</td>\n",
              "      <td>John Taylor</td>\n",
              "      <td>The portfolio is fine except for the fact that...</td>\n",
              "      <td>3</td>\n",
              "      <td>Parts missing</td>\n",
              "    </tr>\n",
              "    <tr>\n",
              "      <th>1</th>\n",
              "      <td>A3TS466QBAWB9D</td>\n",
              "      <td>0014072149</td>\n",
              "      <td>Silver Pencil</td>\n",
              "      <td>If you are a serious violin student on a budge...</td>\n",
              "      <td>5</td>\n",
              "      <td>Perform it with a friend, today!</td>\n",
              "    </tr>\n",
              "    <tr>\n",
              "      <th>2</th>\n",
              "      <td>A3BUDYITWUSIS7</td>\n",
              "      <td>0041291905</td>\n",
              "      <td>joyce gabriel cornett</td>\n",
              "      <td>This is and excellent edition and perfectly tr...</td>\n",
              "      <td>5</td>\n",
              "      <td>Vivalldi's Four Seasons</td>\n",
              "    </tr>\n",
              "    <tr>\n",
              "      <th>3</th>\n",
              "      <td>A19K10Z0D2NTZK</td>\n",
              "      <td>0041913574</td>\n",
              "      <td>TexasCowboy</td>\n",
              "      <td>Perfect for someone who is an opera fan or a w...</td>\n",
              "      <td>5</td>\n",
              "      <td>Full score: voice and orchestra</td>\n",
              "    </tr>\n",
              "    <tr>\n",
              "      <th>4</th>\n",
              "      <td>A14X336IB4JD89</td>\n",
              "      <td>0201891859</td>\n",
              "      <td>dfjm53</td>\n",
              "      <td>How many Nocturnes does it contain? All of the...</td>\n",
              "      <td>1</td>\n",
              "      <td>Unable to determine contents</td>\n",
              "    </tr>\n",
              "    <tr>\n",
              "      <th>...</th>\n",
              "      <td>...</td>\n",
              "      <td>...</td>\n",
              "      <td>...</td>\n",
              "      <td>...</td>\n",
              "      <td>...</td>\n",
              "      <td>...</td>\n",
              "    </tr>\n",
              "    <tr>\n",
              "      <th>500171</th>\n",
              "      <td>A2XEVARMJP81E</td>\n",
              "      <td>B00LIR7QNS</td>\n",
              "      <td>Zoe</td>\n",
              "      <td>I'm very pleased with this recorder. Firstly, ...</td>\n",
              "      <td>5</td>\n",
              "      <td>Excellent sound, very cheap, altos are rather ...</td>\n",
              "    </tr>\n",
              "    <tr>\n",
              "      <th>500172</th>\n",
              "      <td>A3PAQGM6P87MXO</td>\n",
              "      <td>B00LJD5AUM</td>\n",
              "      <td>William Kilpatrick</td>\n",
              "      <td>i've been playing my m-4 for more years than i...</td>\n",
              "      <td>5</td>\n",
              "      <td>... years than i care to remember - it's a won...</td>\n",
              "    </tr>\n",
              "    <tr>\n",
              "      <th>500173</th>\n",
              "      <td>A2KZX7A4XZ4T2W</td>\n",
              "      <td>B00LK7A9SK</td>\n",
              "      <td>Steve</td>\n",
              "      <td>This is an exceptionally nice sounding guitar....</td>\n",
              "      <td>5</td>\n",
              "      <td>great sound</td>\n",
              "    </tr>\n",
              "    <tr>\n",
              "      <th>500174</th>\n",
              "      <td>AIDHT6KXOL64T</td>\n",
              "      <td>SMLRBIMX03</td>\n",
              "      <td>Leo Cameron</td>\n",
              "      <td>It was a perfect retrofit for my guitar. I lov...</td>\n",
              "      <td>5</td>\n",
              "      <td>A great choice for my guitar</td>\n",
              "    </tr>\n",
              "    <tr>\n",
              "      <th>500175</th>\n",
              "      <td>A161I1MHX2G2BR</td>\n",
              "      <td>SMLRBIMX03</td>\n",
              "      <td>Michael Favila \"temporarybasement\"</td>\n",
              "      <td>great seller, so that was seamless.  The picku...</td>\n",
              "      <td>4</td>\n",
              "      <td>great, but difficult to install</td>\n",
              "    </tr>\n",
              "  </tbody>\n",
              "</table>\n",
              "<p>500176 rows × 6 columns</p>\n",
              "</div>"
            ],
            "text/plain": [
              "            reviewerID  ...                                            summary\n",
              "0       A1YS9MDZP93857  ...                                      Parts missing\n",
              "1       A3TS466QBAWB9D  ...                   Perform it with a friend, today!\n",
              "2       A3BUDYITWUSIS7  ...                            Vivalldi's Four Seasons\n",
              "3       A19K10Z0D2NTZK  ...                    Full score: voice and orchestra\n",
              "4       A14X336IB4JD89  ...                       Unable to determine contents\n",
              "...                ...  ...                                                ...\n",
              "500171   A2XEVARMJP81E  ...  Excellent sound, very cheap, altos are rather ...\n",
              "500172  A3PAQGM6P87MXO  ...  ... years than i care to remember - it's a won...\n",
              "500173  A2KZX7A4XZ4T2W  ...                                        great sound\n",
              "500174   AIDHT6KXOL64T  ...                       A great choice for my guitar\n",
              "500175  A161I1MHX2G2BR  ...                    great, but difficult to install\n",
              "\n",
              "[500176 rows x 6 columns]"
            ]
          },
          "metadata": {
            "tags": []
          },
          "execution_count": 23
        }
      ]
    },
    {
      "cell_type": "code",
      "metadata": {
        "colab": {
          "base_uri": "https://localhost:8080/"
        },
        "id": "4gMCMtqDjBY7",
        "outputId": "26c312f1-0441-4995-d25d-eec208aeba90"
      },
      "source": [
        "df.isnull().sum().sum()"
      ],
      "execution_count": null,
      "outputs": [
        {
          "output_type": "execute_result",
          "data": {
            "text/plain": [
              "2586"
            ]
          },
          "metadata": {
            "tags": []
          },
          "execution_count": 5
        }
      ]
    },
    {
      "cell_type": "code",
      "metadata": {
        "colab": {
          "base_uri": "https://localhost:8080/"
        },
        "id": "EGIY026_jIUZ",
        "outputId": "d14aa9ae-b71d-4e22-c9b1-10c5b7d21937"
      },
      "source": [
        "df.isnull().any()"
      ],
      "execution_count": null,
      "outputs": [
        {
          "output_type": "execute_result",
          "data": {
            "text/plain": [
              "reviewerID      False\n",
              "asin            False\n",
              "reviewerName     True\n",
              "helpful         False\n",
              "reviewText      False\n",
              "overall         False\n",
              "summary         False\n",
              "dtype: bool"
            ]
          },
          "metadata": {
            "tags": []
          },
          "execution_count": 6
        }
      ]
    },
    {
      "cell_type": "code",
      "metadata": {
        "colab": {
          "base_uri": "https://localhost:8080/",
          "height": 419
        },
        "id": "ygRtkHQkjVdH",
        "outputId": "110936fa-2820-4035-8ad8-7f0be7a30de1"
      },
      "source": [
        "df.drop([\"reviewerName\"], axis=1, inplace=True)\n",
        "df"
      ],
      "execution_count": null,
      "outputs": [
        {
          "output_type": "execute_result",
          "data": {
            "text/html": [
              "<div>\n",
              "<style scoped>\n",
              "    .dataframe tbody tr th:only-of-type {\n",
              "        vertical-align: middle;\n",
              "    }\n",
              "\n",
              "    .dataframe tbody tr th {\n",
              "        vertical-align: top;\n",
              "    }\n",
              "\n",
              "    .dataframe thead th {\n",
              "        text-align: right;\n",
              "    }\n",
              "</style>\n",
              "<table border=\"1\" class=\"dataframe\">\n",
              "  <thead>\n",
              "    <tr style=\"text-align: right;\">\n",
              "      <th></th>\n",
              "      <th>reviewerID</th>\n",
              "      <th>asin</th>\n",
              "      <th>reviewText</th>\n",
              "      <th>overall</th>\n",
              "      <th>summary</th>\n",
              "    </tr>\n",
              "  </thead>\n",
              "  <tbody>\n",
              "    <tr>\n",
              "      <th>0</th>\n",
              "      <td>A1YS9MDZP93857</td>\n",
              "      <td>0006428320</td>\n",
              "      <td>The portfolio is fine except for the fact that...</td>\n",
              "      <td>3</td>\n",
              "      <td>Parts missing</td>\n",
              "    </tr>\n",
              "    <tr>\n",
              "      <th>1</th>\n",
              "      <td>A3TS466QBAWB9D</td>\n",
              "      <td>0014072149</td>\n",
              "      <td>If you are a serious violin student on a budge...</td>\n",
              "      <td>5</td>\n",
              "      <td>Perform it with a friend, today!</td>\n",
              "    </tr>\n",
              "    <tr>\n",
              "      <th>2</th>\n",
              "      <td>A3BUDYITWUSIS7</td>\n",
              "      <td>0041291905</td>\n",
              "      <td>This is and excellent edition and perfectly tr...</td>\n",
              "      <td>5</td>\n",
              "      <td>Vivalldi's Four Seasons</td>\n",
              "    </tr>\n",
              "    <tr>\n",
              "      <th>3</th>\n",
              "      <td>A19K10Z0D2NTZK</td>\n",
              "      <td>0041913574</td>\n",
              "      <td>Perfect for someone who is an opera fan or a w...</td>\n",
              "      <td>5</td>\n",
              "      <td>Full score: voice and orchestra</td>\n",
              "    </tr>\n",
              "    <tr>\n",
              "      <th>4</th>\n",
              "      <td>A14X336IB4JD89</td>\n",
              "      <td>0201891859</td>\n",
              "      <td>How many Nocturnes does it contain? All of the...</td>\n",
              "      <td>1</td>\n",
              "      <td>Unable to determine contents</td>\n",
              "    </tr>\n",
              "    <tr>\n",
              "      <th>...</th>\n",
              "      <td>...</td>\n",
              "      <td>...</td>\n",
              "      <td>...</td>\n",
              "      <td>...</td>\n",
              "      <td>...</td>\n",
              "    </tr>\n",
              "    <tr>\n",
              "      <th>500171</th>\n",
              "      <td>A2XEVARMJP81E</td>\n",
              "      <td>B00LIR7QNS</td>\n",
              "      <td>I'm very pleased with this recorder. Firstly, ...</td>\n",
              "      <td>5</td>\n",
              "      <td>Excellent sound, very cheap, altos are rather ...</td>\n",
              "    </tr>\n",
              "    <tr>\n",
              "      <th>500172</th>\n",
              "      <td>A3PAQGM6P87MXO</td>\n",
              "      <td>B00LJD5AUM</td>\n",
              "      <td>i've been playing my m-4 for more years than i...</td>\n",
              "      <td>5</td>\n",
              "      <td>... years than i care to remember - it's a won...</td>\n",
              "    </tr>\n",
              "    <tr>\n",
              "      <th>500173</th>\n",
              "      <td>A2KZX7A4XZ4T2W</td>\n",
              "      <td>B00LK7A9SK</td>\n",
              "      <td>This is an exceptionally nice sounding guitar....</td>\n",
              "      <td>5</td>\n",
              "      <td>great sound</td>\n",
              "    </tr>\n",
              "    <tr>\n",
              "      <th>500174</th>\n",
              "      <td>AIDHT6KXOL64T</td>\n",
              "      <td>SMLRBIMX03</td>\n",
              "      <td>It was a perfect retrofit for my guitar. I lov...</td>\n",
              "      <td>5</td>\n",
              "      <td>A great choice for my guitar</td>\n",
              "    </tr>\n",
              "    <tr>\n",
              "      <th>500175</th>\n",
              "      <td>A161I1MHX2G2BR</td>\n",
              "      <td>SMLRBIMX03</td>\n",
              "      <td>great seller, so that was seamless.  The picku...</td>\n",
              "      <td>4</td>\n",
              "      <td>great, but difficult to install</td>\n",
              "    </tr>\n",
              "  </tbody>\n",
              "</table>\n",
              "<p>500176 rows × 5 columns</p>\n",
              "</div>"
            ],
            "text/plain": [
              "            reviewerID  ...                                            summary\n",
              "0       A1YS9MDZP93857  ...                                      Parts missing\n",
              "1       A3TS466QBAWB9D  ...                   Perform it with a friend, today!\n",
              "2       A3BUDYITWUSIS7  ...                            Vivalldi's Four Seasons\n",
              "3       A19K10Z0D2NTZK  ...                    Full score: voice and orchestra\n",
              "4       A14X336IB4JD89  ...                       Unable to determine contents\n",
              "...                ...  ...                                                ...\n",
              "500171   A2XEVARMJP81E  ...  Excellent sound, very cheap, altos are rather ...\n",
              "500172  A3PAQGM6P87MXO  ...  ... years than i care to remember - it's a won...\n",
              "500173  A2KZX7A4XZ4T2W  ...                                        great sound\n",
              "500174   AIDHT6KXOL64T  ...                       A great choice for my guitar\n",
              "500175  A161I1MHX2G2BR  ...                    great, but difficult to install\n",
              "\n",
              "[500176 rows x 5 columns]"
            ]
          },
          "metadata": {
            "tags": []
          },
          "execution_count": 24
        }
      ]
    },
    {
      "cell_type": "code",
      "metadata": {
        "colab": {
          "base_uri": "https://localhost:8080/"
        },
        "id": "78ESxzQCo1HH",
        "outputId": "e4349d3f-00f0-4a37-b3b1-06e195a57fd9"
      },
      "source": [
        "df.dtypes"
      ],
      "execution_count": null,
      "outputs": [
        {
          "output_type": "execute_result",
          "data": {
            "text/plain": [
              "reviewerID    object\n",
              "asin          object\n",
              "helpful       object\n",
              "reviewText    object\n",
              "overall        int64\n",
              "summary       object\n",
              "dtype: object"
            ]
          },
          "metadata": {
            "tags": []
          },
          "execution_count": 10
        }
      ]
    },
    {
      "cell_type": "code",
      "metadata": {
        "colab": {
          "base_uri": "https://localhost:8080/"
        },
        "id": "1F6KbnLrjhEu",
        "outputId": "ae9ce308-03d2-4eeb-8d3b-bb99ace099d5"
      },
      "source": [
        "df.isnull().sum().sum()"
      ],
      "execution_count": null,
      "outputs": [
        {
          "output_type": "execute_result",
          "data": {
            "text/plain": [
              "0"
            ]
          },
          "metadata": {
            "tags": []
          },
          "execution_count": 25
        }
      ]
    },
    {
      "cell_type": "markdown",
      "metadata": {
        "id": "Dvcf6kO3eJXD"
      },
      "source": [
        "# Exploratory Data Analysis"
      ]
    },
    {
      "cell_type": "code",
      "metadata": {
        "colab": {
          "base_uri": "https://localhost:8080/"
        },
        "id": "XsW9pVcRbhqD",
        "outputId": "1235d473-51f9-4cfe-96f1-f8c77eec4e5f"
      },
      "source": [
        "users = len(np.unique(df.reviewerID\t))\n",
        "products = len(np.unique(df.asin))\n",
        "print(\"Total users: \" + str(users))\n",
        "print(\"Total products: \" + str(users))"
      ],
      "execution_count": null,
      "outputs": [
        {
          "output_type": "stream",
          "text": [
            "Total users: 339231\n",
            "Total products: 339231\n"
          ],
          "name": "stdout"
        }
      ]
    },
    {
      "cell_type": "code",
      "metadata": {
        "colab": {
          "base_uri": "https://localhost:8080/",
          "height": 551
        },
        "id": "NKlrtYBJj0dy",
        "outputId": "613f695a-81f2-4cd7-9824-279405e79a2a"
      },
      "source": [
        "df[\"overall\"].value_counts().sort_index().plot(kind = \"bar\")"
      ],
      "execution_count": null,
      "outputs": [
        {
          "output_type": "execute_result",
          "data": {
            "text/plain": [
              "<matplotlib.axes._subplots.AxesSubplot at 0x7f87f02f1c88>"
            ]
          },
          "metadata": {
            "tags": []
          },
          "execution_count": 27
        },
        {
          "output_type": "display_data",
          "data": {
            "image/png": "[encoded data removed]",
            "text/plain": [
              "<Figure size 1152x648 with 1 Axes>"
            ]
          },
          "metadata": {
            "tags": []
          }
        }
      ]
    }
  ]
}